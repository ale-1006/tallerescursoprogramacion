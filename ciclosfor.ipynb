{
  "nbformat": 4,
  "nbformat_minor": 0,
  "metadata": {
    "colab": {
      "provenance": []
    },
    "kernelspec": {
      "name": "python3",
      "display_name": "Python 3"
    },
    "language_info": {
      "name": "python"
    }
  },
  "cells": [
    {
      "cell_type": "markdown",
      "source": [
        "Crear un bucle que cuente todos los números pares hasta\n",
        "el 100 ciclo for\n"
      ],
      "metadata": {
        "id": "i3NLCau3MXnD"
      }
    },
    {
      "cell_type": "code",
      "source": [
        "for x in range(0,101,2):\n",
        "  print(x)"
      ],
      "metadata": {
        "id": "UnSIhEeqMakn",
        "colab": {
          "base_uri": "https://localhost:8080/"
        },
        "outputId": "987f7d90-9418-4ae6-cf7e-30ec65e9a852"
      },
      "execution_count": null,
      "outputs": [
        {
          "output_type": "stream",
          "name": "stdout",
          "text": [
            "0\n",
            "2\n",
            "4\n",
            "6\n",
            "8\n",
            "10\n",
            "12\n",
            "14\n",
            "16\n",
            "18\n",
            "20\n",
            "22\n",
            "24\n",
            "26\n",
            "28\n",
            "30\n",
            "32\n",
            "34\n",
            "36\n",
            "38\n",
            "40\n",
            "42\n",
            "44\n",
            "46\n",
            "48\n",
            "50\n",
            "52\n",
            "54\n",
            "56\n",
            "58\n",
            "60\n",
            "62\n",
            "64\n",
            "66\n",
            "68\n",
            "70\n",
            "72\n",
            "74\n",
            "76\n",
            "78\n",
            "80\n",
            "82\n",
            "84\n",
            "86\n",
            "88\n",
            "90\n",
            "92\n",
            "94\n",
            "96\n",
            "98\n",
            "100\n"
          ]
        }
      ]
    },
    {
      "cell_type": "markdown",
      "source": [],
      "metadata": {
        "id": "eRGO4nnp0zr1"
      }
    },
    {
      "cell_type": "markdown",
      "source": [
        "Haz una tabla de multiplicar utilizando el ciclo for\n"
      ],
      "metadata": {
        "id": "pPrEbbXX0zuQ"
      }
    },
    {
      "cell_type": "code",
      "source": [
        "tabla = int(input(\"tabla del nuemro: \"))\n",
        "\n",
        "for i in range(11):\n",
        "  print(i, \" x \", tabla, \" = \", i * tabla)"
      ],
      "metadata": {
        "colab": {
          "base_uri": "https://localhost:8080/"
        },
        "id": "POUPbODS04lI",
        "outputId": "e9a43f57-6812-4cf1-f5dd-ac4707ad2e17"
      },
      "execution_count": null,
      "outputs": [
        {
          "output_type": "stream",
          "name": "stdout",
          "text": [
            "tabla del nuemro: 7\n",
            "0  x  7  =  0\n",
            "1  x  7  =  7\n",
            "2  x  7  =  14\n",
            "3  x  7  =  21\n",
            "4  x  7  =  28\n",
            "5  x  7  =  35\n",
            "6  x  7  =  42\n",
            "7  x  7  =  49\n",
            "8  x  7  =  56\n",
            "9  x  7  =  63\n",
            "10  x  7  =  70\n"
          ]
        }
      ]
    },
    {
      "cell_type": "markdown",
      "source": [
        "Escribir un programa que pregunte al usuario su edad y\n",
        "muestre por pantalla todos los años que ha cumplido\n",
        "(desde 1 hasta su edad). ciclo for"
      ],
      "metadata": {
        "id": "YPfeVOXC2LBx"
      }
    },
    {
      "cell_type": "code",
      "source": [
        "edad = int(input(\"digite su edad: \"))\n",
        "\n",
        "for e in range(1,edad + 1):\n",
        "  print(e)"
      ],
      "metadata": {
        "colab": {
          "base_uri": "https://localhost:8080/"
        },
        "id": "bRdV0T4B2PH1",
        "outputId": "aca620f1-f62a-4dcb-bef2-46d9e4b2c4ff"
      },
      "execution_count": null,
      "outputs": [
        {
          "output_type": "stream",
          "name": "stdout",
          "text": [
            "digite su edad: 45\n",
            "1\n",
            "2\n",
            "3\n",
            "4\n",
            "5\n",
            "6\n",
            "7\n",
            "8\n",
            "9\n",
            "10\n",
            "11\n",
            "12\n",
            "13\n",
            "14\n",
            "15\n",
            "16\n",
            "17\n",
            "18\n",
            "19\n",
            "20\n",
            "21\n",
            "22\n",
            "23\n",
            "24\n",
            "25\n",
            "26\n",
            "27\n",
            "28\n",
            "29\n",
            "30\n",
            "31\n",
            "32\n",
            "33\n",
            "34\n",
            "35\n",
            "36\n",
            "37\n",
            "38\n",
            "39\n",
            "40\n",
            "41\n",
            "42\n",
            "43\n",
            "44\n",
            "45\n"
          ]
        }
      ]
    },
    {
      "cell_type": "markdown",
      "source": [
        "Escribir un programa que pida al usuario un número entero\n",
        "positivo y muestre por pantalla todos los números\n",
        "impares desde 1 hasta ese número separados por comas."
      ],
      "metadata": {
        "id": "I1u-rDOi326c"
      }
    },
    {
      "cell_type": "code",
      "source": [
        "numpar = int(input(\"Digite un numero entero positivo: \"))\n",
        "\n",
        "for i in range(1,numpar + 1,2):\n",
        "  print(i, end = \",\")"
      ],
      "metadata": {
        "colab": {
          "base_uri": "https://localhost:8080/"
        },
        "id": "Vm_AH8EY3-6K",
        "outputId": "8b71f8d8-281c-428c-b0d2-d0225a6ca369"
      },
      "execution_count": null,
      "outputs": [
        {
          "output_type": "stream",
          "name": "stdout",
          "text": [
            "Digite un numero entero positivo: 22\n",
            "1,3,5,7,9,11,13,15,17,19,21,"
          ]
        }
      ]
    },
    {
      "cell_type": "markdown",
      "source": [
        "Encuentra la suma de todos los números pares del 1 al\n",
        "100 ciclo for"
      ],
      "metadata": {
        "id": "MdcY3I4S6jEz"
      }
    },
    {
      "cell_type": "code",
      "source": [
        "acu = 0\n",
        "\n",
        "for t in range(0, 101, 2):\n",
        "  acu = acu + t\n",
        "print(f\"La suma de los numeros pares de 0 a 100 es= {acu}\")"
      ],
      "metadata": {
        "colab": {
          "base_uri": "https://localhost:8080/"
        },
        "id": "ow3SCEyP6lE6",
        "outputId": "96f5dbc6-2607-4144-91b8-2814baebef04"
      },
      "execution_count": null,
      "outputs": [
        {
          "output_type": "stream",
          "name": "stdout",
          "text": [
            "La suma de los numeros pares de 0 a 100 es= 2550\n"
          ]
        }
      ]
    }
  ]
}