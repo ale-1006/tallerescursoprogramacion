{
  "nbformat": 4,
  "nbformat_minor": 0,
  "metadata": {
    "colab": {
      "provenance": []
    },
    "kernelspec": {
      "name": "python3",
      "display_name": "Python 3"
    },
    "language_info": {
      "name": "python"
    }
  },
  "cells": [
    {
      "cell_type": "code",
      "execution_count": null,
      "metadata": {
        "colab": {
          "base_uri": "https://localhost:8080/"
        },
        "id": "749PehDMUnye",
        "outputId": "aa7128bb-0dd2-474e-d880-dcfc816a180c"
      },
      "outputs": [
        {
          "output_type": "stream",
          "name": "stdout",
          "text": [
            "karen perez\n",
            "3118876043\n"
          ]
        }
      ],
      "source": [
        "nombre = \"karen perez\"\n",
        "print(nombre)\n",
        "telefono = 3118876043\n",
        "print(telefono)"
      ]
    },
    {
      "cell_type": "markdown",
      "source": [],
      "metadata": {
        "id": "_y6XyLu--kCp"
      }
    },
    {
      "cell_type": "markdown",
      "source": [
        "variables\n"
      ],
      "metadata": {
        "id": "puJJgpI1WNyn"
      }
    },
    {
      "cell_type": "code",
      "source": [
        "from logging import disable\n",
        "nombres = \"maria delgado\"\n",
        "print(nombres)\n",
        "apellidos = \"perico mocagua\"\n",
        "print(apellidos)\n",
        "direccion = \"calle 59 # 22 g 65 sur\"\n",
        "print(direccion)\n",
        "telefono = 3118876043\n",
        "print(telefono)\n",
        "edad = 29\n",
        "print(edad)\n",
        "estadocivil = input(\"digite su estado civil: \")\n",
        "print(estadocivil)\n",
        "numerohijos = 1\n",
        "print(numerohijos)\n",
        "estatura = 160\n",
        "print(estatura)\n",
        "diacontratacion = \"19/07/2019\"\n",
        "print(diacontratacion)\n",
        "sueldobasico = 1881000\n",
        "print(sueldobasico)\n",
        "#variable para conocer los dias laborados\n",
        "diaslaborados = input(\"digite sus dias laborados: \")\n",
        "print(diaslaborados)\n"
      ],
      "metadata": {
        "colab": {
          "base_uri": "https://localhost:8080/"
        },
        "id": "t5-8LOHFF8gy",
        "outputId": "36f3605d-c645-4a59-bbca-502d888f6a0c"
      },
      "execution_count": null,
      "outputs": [
        {
          "output_type": "stream",
          "name": "stdout",
          "text": [
            "maria delgado\n",
            "perico mocagua\n",
            "calle 59 # 22 g 65 sur\n",
            "3118876043\n",
            "29\n",
            "digite su estado civil: casada\n",
            "casada\n",
            "1\n",
            "160\n",
            "19/07/2019\n",
            "1881000\n",
            "digite sus dias laborados: 160\n",
            "160\n"
          ]
        }
      ]
    }
  ]
}