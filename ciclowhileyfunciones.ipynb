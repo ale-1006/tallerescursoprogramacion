{
  "nbformat": 4,
  "nbformat_minor": 0,
  "metadata": {
    "colab": {
      "provenance": []
    },
    "kernelspec": {
      "name": "python3",
      "display_name": "Python 3"
    },
    "language_info": {
      "name": "python"
    }
  },
  "cells": [
    {
      "cell_type": "markdown",
      "source": [
        "\n",
        "aplicación de ciclo while y funciones \n",
        "\n",
        "---\n",
        "\n"
      ],
      "metadata": {
        "id": "2QSOsGuBXBT6"
      }
    },
    {
      "cell_type": "code",
      "source": [
        "nombres = \"maria alejandra\"\n",
        "print(nombres)\n",
        "apellidos = \"cano gomez\"\n",
        "print(apellidos)\n",
        "direccion = \"calle 59 # 22 g 65 sur\"\n",
        "print(direccion)\n",
        "telefono = 3118876043\n",
        "print(telefono)\n",
        "edad = 29\n",
        "print(edad)\n",
        "estadocivil = input(\"digite su estado civil: \")\n",
        "numerohijos = 1\n",
        "print(numerohijos)\n",
        "estatura = 160\n",
        "print(estatura)\n",
        "diacontratacion = \"19/07/2019\"\n",
        "print(diacontratacion)\n",
        "sueldobasico = 1881000\n",
        "print(sueldobasico)\n",
        "#variable para conocer los dias laborados\n",
        "diaslaborados = float(input(\"digite sus dias laborados: \"))\n",
        "print(diaslaborados)\n",
        "\n",
        "if edad > 55: \n",
        "  bono = sueldobasico * 0.5\n",
        "  print(\"recibira bono pre pensional por= ${:,.0f}\".format(bono))\n",
        "else:\n",
        "  print(\"no recibira el bono pre pensional\")\n",
        "\n",
        "if estadocivil in \"casada\" and numerohijos > 0:\n",
        "  print(\"tiene derecho a un paseo cada diciembre\")\n",
        "else:\n",
        "  print(\"no tienes derecho al paseo\")\n",
        "\n",
        "if sueldobasico >= 1000000 and sueldobasico < 1500000: \n",
        "  bono1 = sueldobasico * 0.2\n",
        "  bono2 = sueldobasico * 0.5\n",
        "  print(\"recibe comision de= ${:,.0f}\".format(bono1))\n",
        "elif sueldobasico >= 1500001 and sueldobasico < 2000000: \n",
        "  bono1 = sueldobasico * 0.2\n",
        "  bono2 = sueldobasico * 0.5\n",
        "  print(\"recibe comision de= ${:,.0f}\".format(bono2))\n",
        "else:\n",
        "  print(\"no recibira comision\")\n",
        "\n",
        "if diaslaborados <= 20 and sueldobasico < 1000000:\n",
        "  print(\"recibira bono de alimentacion\")\n",
        "else:\n",
        "  print(\"no recibira bono de alimentacion\")\n",
        "\n",
        "\n",
        "\n",
        "\n",
        " "
      ],
      "metadata": {
        "colab": {
          "base_uri": "https://localhost:8080/"
        },
        "id": "qkRWC7B3XM4j",
        "outputId": "f20fd877-62cb-4786-95f7-cb577fd01611"
      },
      "execution_count": 2,
      "outputs": [
        {
          "output_type": "stream",
          "name": "stdout",
          "text": [
            "maria alejandra\n",
            "cano gomez\n",
            "calle 59 # 22 g 65 sur\n",
            "3118876043\n",
            "29\n",
            "digite su estado civil: casada\n",
            "1\n",
            "160\n",
            "19/07/2019\n",
            "1881000\n",
            "digite sus dias laborados: 160\n",
            "160.0\n",
            "no recibira el bono pre pensional\n",
            "tiene derecho a un paseo cada diciembre\n",
            "recibe comision de= $940,500\n",
            "no recibira bono de alimentacion\n"
          ]
        }
      ]
    },
    {
      "cell_type": "code",
      "source": [
        "sueldo = float(input(\"Digite su sueldo \"))\n",
        "def bonodot(dot):\n",
        " if dot > 150000: \n",
        "  print(\"Vete de compras\")\n",
        "\n",
        " else:\n",
        "  print(\"No recibiras bono de dotación \")\n",
        "\n",
        "resp = \"si\"\n",
        "while resp == \"si\" or resp == \"ok\":\n",
        "  bondot = sueldo * 0.20\n",
        "  bonodot(bondot)\n",
        "  resp = input(\"¿Desea referir otro compañero?\")\n"
      ],
      "metadata": {
        "colab": {
          "base_uri": "https://localhost:8080/"
        },
        "id": "c05tZtM9cjPf",
        "outputId": "380f58fb-60f4-470d-afc0-7f4b777e4187"
      },
      "execution_count": 18,
      "outputs": [
        {
          "name": "stdout",
          "output_type": "stream",
          "text": [
            "Digite su sueldo 1881000\n",
            "Vete de compras\n",
            "¿Desea referir otro compañero?si\n",
            "Vete de compras\n",
            "¿Desea referir otro compañero?no\n"
          ]
        }
      ]
    },
    {
      "cell_type": "code",
      "source": [
        "hijos = 1\n",
        "while hijos <= 3:\n",
        "  hijos = hijos + 2\n",
        "\n",
        "  print(hijos, end = \", \")\n",
        "print(\"hijos que tendras proximamente \")\n",
        "  \n"
      ],
      "metadata": {
        "colab": {
          "base_uri": "https://localhost:8080/"
        },
        "id": "VmhVDQ6aiaF3",
        "outputId": "5b1d6758-4f93-4fee-eb7a-744378f97ba0"
      },
      "execution_count": 36,
      "outputs": [
        {
          "output_type": "stream",
          "name": "stdout",
          "text": [
            "3, 5, hijos que tendras proximamente \n"
          ]
        }
      ]
    },
    {
      "cell_type": "code",
      "source": [
        "diaslab = 160\n",
        "def liq(b):\n",
        "  b= b*b\n",
        "  return b\n",
        "resultado = liq(diaslab)\n",
        "print(resultado)\n",
        "print(\"Liquidación correspondiente a 160 días laborados\")"
      ],
      "metadata": {
        "colab": {
          "base_uri": "https://localhost:8080/"
        },
        "id": "YrwzroGkmbnP",
        "outputId": "6e76c9b0-c606-4113-e77a-9c24248c587e"
      },
      "execution_count": 39,
      "outputs": [
        {
          "output_type": "stream",
          "name": "stdout",
          "text": [
            "25600\n",
            "Liquidación correspondiente a 160 días laborados\n"
          ]
        }
      ]
    }
  ]
}