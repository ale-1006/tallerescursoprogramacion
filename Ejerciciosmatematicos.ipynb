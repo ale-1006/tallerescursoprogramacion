{
  "nbformat": 4,
  "nbformat_minor": 0,
  "metadata": {
    "colab": {
      "provenance": []
    },
    "kernelspec": {
      "name": "python3",
      "display_name": "Python 3"
    },
    "language_info": {
      "name": "python"
    }
  },
  "cells": [
    {
      "cell_type": "markdown",
      "source": [
        "Ejercicio Matemático 1 el vendedor"
      ],
      "metadata": {
        "id": "Co4LQYKUE-uh"
      }
    },
    {
      "cell_type": "code",
      "source": [
        "# salario básico de Luis\n",
        "sueldo = float(input(\"salario base: \"))\n",
        "venta1 = 556700\n",
        "venta2 = 1234000\n",
        "venta3 = 2567000\n",
        "# suma total de la ventas que realizo Luis\n",
        "ventatotal = venta1 + venta2 + venta3\n",
        "#Comisión por el total de las ventas en el  mes de Luis\n",
        "comision = (venta1 + venta2 + venta3) * 0.1\n",
        "total = sueldo + comision\n",
        "\n",
        "print(sueldo)\n",
        "print(\"el resultado de la venta total es= ${}\".format(ventatotal) )\n",
        "print(\"la comision total es=${}\".format(comision))\n",
        "print(\"el total recibido sera= ${}\".format(total))\n"
      ],
      "metadata": {
        "colab": {
          "base_uri": "https://localhost:8080/"
        },
        "id": "WjpXtvl5FCAY",
        "outputId": "358b3cbd-1d7b-4e39-b15c-3e6484db7b49"
      },
      "execution_count": null,
      "outputs": [
        {
          "output_type": "stream",
          "name": "stdout",
          "text": [
            "salario base: 2500000\n",
            "2500000.0\n",
            "el resultado de la venta total es= $4357700\n",
            "la comision total es=$435770.0\n",
            "el total recibido sera= $2935770.0\n"
          ]
        }
      ]
    },
    {
      "cell_type": "markdown",
      "source": [
        "Ejercicio 2 tienda con el 15% de descuento"
      ],
      "metadata": {
        "id": "Rk8ILnZEFNnY"
      }
    },
    {
      "cell_type": "code",
      "source": [
        "valorcompra =float(input(\"valor total de la compra: \"))\n",
        "# calculo del descuento del 15% para la compra\n",
        "descuento = valorcompra * 0.15\n",
        "total = valorcompra - descuento\n",
        "\n",
        "print(valorcompra)\n",
        "print(\"el descuento es de= ${:,.0f} y el total a pagar es de= ${:,.0f}\".format(descuento, total))"
      ],
      "metadata": {
        "colab": {
          "base_uri": "https://localhost:8080/"
        },
        "id": "R7VIwsizFPlA",
        "outputId": "c748f653-a272-4c46-8d4a-1a4437c055fb"
      },
      "execution_count": null,
      "outputs": [
        {
          "output_type": "stream",
          "name": "stdout",
          "text": [
            "valor total de la compra: 609000\n",
            "609000.0\n",
            "el descuento es de= $91,350 y el total a pagar es de= $517,650\n"
          ]
        }
      ]
    },
    {
      "cell_type": "markdown",
      "source": [
        "Ejercicio 3 calificación clase de algoritmos"
      ],
      "metadata": {
        "id": "Q_Tz4Y3PFbdJ"
      }
    },
    {
      "cell_type": "code",
      "source": [
        "nota1 =float(input(\"valor primer parcial: \"))\n",
        "nota2 =float(input(\"valor segundo parcial: \"))\n",
        "nota3 =float(input(\"valor tercer parcial: \"))\n",
        "\n",
        "prom = round((nota1 + nota2 + nota3) / 3, 2)\n",
        "\n",
        "print(f\"la nota final es= {prom}\")"
      ],
      "metadata": {
        "colab": {
          "base_uri": "https://localhost:8080/"
        },
        "id": "1Y6nM34gFdBq",
        "outputId": "1e484c96-6f3e-41b5-f1b0-f7e3c8fc3f20"
      },
      "execution_count": null,
      "outputs": [
        {
          "output_type": "stream",
          "name": "stdout",
          "text": [
            "valor primer parcial: 3.4\n",
            "valor segundo parcial: 2.5\n",
            "valor tercer parcial: 3.1\n",
            "la nota final es= 3.0\n"
          ]
        }
      ]
    },
    {
      "cell_type": "markdown",
      "source": [
        "ejercicio 4 porcentaje de hombres y mujeres en un grupo de estudiantes\n",
        "\n",
        "---\n",
        "\n"
      ],
      "metadata": {
        "id": "ETiBA51fF8hg"
      }
    },
    {
      "cell_type": "code",
      "source": [
        "grupoest = int(input(\"numero total de estudiantes: \"))\n",
        "# número total de mujeres\n",
        "no_mujeres = int(input(\"cantidad de mujeres en el grupo: \"))\n",
        "#número total de hombres\n",
        "no_hombres = int(input(\"cantidad de hombres en el grupo: \"))\n",
        "pormujeres = (no_mujeres / grupoest) * 100\n",
        "porhombres = (no_hombres / grupoest) * 100\n",
        "\n",
        "\n",
        "print(grupoest)\n",
        "print(f\"el porcentaje de mujeres en el grupo es de= {pormujeres}%\")\n",
        "print(f\"el porcentaje de mujeres en el grupo es de= {porhombres}%\")\n"
      ],
      "metadata": {
        "colab": {
          "base_uri": "https://localhost:8080/"
        },
        "id": "OXS2vCrYGBg4",
        "outputId": "b3d2b3a1-ada1-40df-b23a-7b236cc1fd85"
      },
      "execution_count": null,
      "outputs": [
        {
          "output_type": "stream",
          "name": "stdout",
          "text": [
            "numero total de estudiantes: 62\n",
            "cantidad de mujeres en el grupo: 19\n",
            "cantidad de hombres en el grupo: 43\n",
            "62\n",
            "el porcentaje de mujeres en el grupo es de= 30.64516129032258%\n",
            "el porcentaje de mujeres en el grupo es de= 69.35483870967742%\n"
          ]
        }
      ]
    }
  ]
}