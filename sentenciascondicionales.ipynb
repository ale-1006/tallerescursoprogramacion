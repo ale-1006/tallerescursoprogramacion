{
  "nbformat": 4,
  "nbformat_minor": 0,
  "metadata": {
    "colab": {
      "provenance": []
    },
    "kernelspec": {
      "name": "python3",
      "display_name": "Python 3"
    },
    "language_info": {
      "name": "python"
    }
  },
  "cells": [
    {
      "cell_type": "code",
      "execution_count": null,
      "metadata": {
        "colab": {
          "base_uri": "https://localhost:8080/"
        },
        "id": "ceVYxx1f_NT9",
        "outputId": "ec707f38-e4ea-4b8e-a28a-b32b9e005c77"
      },
      "outputs": [
        {
          "output_type": "stream",
          "name": "stdout",
          "text": [
            "maria alejandra\n",
            "cano gomez\n",
            "calle 59 # 22 g 65 sur\n",
            "3118876043\n",
            "29\n",
            "digite su estado civil: casada\n",
            "1\n",
            "160\n",
            "19/07/2019\n",
            "1881000\n",
            "digite sus dias laborados: 160\n",
            "160.0\n",
            "no recibira el bono pre pensional\n",
            "tiene derecho a un paseo cada diciembre\n",
            "recibe comision de= $940,500\n",
            "no recibira bono de alimentacion\n"
          ]
        }
      ],
      "source": [
        "nombres = \"maria alejandra\"\n",
        "print(nombres)\n",
        "apellidos = \"cano gomez\"\n",
        "print(apellidos)\n",
        "direccion = \"calle 59 # 22 g 65 sur\"\n",
        "print(direccion)\n",
        "telefono = 3118876043\n",
        "print(telefono)\n",
        "edad = 29\n",
        "print(edad)\n",
        "estadocivil = input(\"digite su estado civil: \")\n",
        "numerohijos = 1\n",
        "print(numerohijos)\n",
        "estatura = 160\n",
        "print(estatura)\n",
        "diacontratacion = \"19/07/2019\"\n",
        "print(diacontratacion)\n",
        "sueldobasico = 1881000\n",
        "print(sueldobasico)\n",
        "#variable para conocer los dias laborados\n",
        "diaslaborados = float(input(\"digite sus dias laborados: \"))\n",
        "print(diaslaborados)\n",
        "\n",
        "if edad > 55: \n",
        "  bono = sueldobasico * 0.5\n",
        "  print(\"recibira bono pre pensional por= ${:,.0f}\".format(bono))\n",
        "else:\n",
        "  print(\"no recibira el bono pre pensional\")\n",
        "\n",
        "if estadocivil in \"casada\" and numerohijos > 0:\n",
        "  print(\"tiene derecho a un paseo cada diciembre\")\n",
        "else:\n",
        "  print(\"no tienes derecho al paseo\")\n",
        "\n",
        "if sueldobasico >= 1000000 and sueldobasico < 1500000: \n",
        "  bono1 = sueldobasico * 0.2\n",
        "  bono2 = sueldobasico * 0.5\n",
        "  print(\"recibe comision de= ${:,.0f}\".format(bono1))\n",
        "elif sueldobasico >= 1500001 and sueldobasico < 2000000: \n",
        "  bono1 = sueldobasico * 0.2\n",
        "  bono2 = sueldobasico * 0.5\n",
        "  print(\"recibe comision de= ${:,.0f}\".format(bono2))\n",
        "else:\n",
        "  print(\"no recibira comision\")\n",
        "\n",
        "if diaslaborados <= 20 and sueldobasico < 1000000:\n",
        "  print(\"recibira bono de alimentacion\")\n",
        "else:\n",
        "  print(\"no recibira bono de alimentacion\")\n",
        "\n"
      ]
    },
    {
      "cell_type": "markdown",
      "source": [
        "Taller 2:\n",
        "\n",
        "Dando continuidad con la primera entrega del proyecto, en esta oportunidad el estudiante debe realizar las siguientes validaciones utilizando la sentencia condicional IF.\n",
        "\n",
        "Si el empleado es mayor de 55 años disfrutará de un bono de prepensión correspondiente al 5% de su sueldo básico.\n",
        "\n",
        "Si el empleado es casado y tiene hijos se le otorgará un paseo cada diciembre\n",
        "\n",
        "Si el sueldo básico está entre 1000000 y 1500000 tendrá una comisión del 2% sobre el valor del sueldo; Si el sueldo básico está entre 1500001 y 2000000 tendrá una comisión del 5% sobre el valor del sueldo; para todos los demás casos no habrá comisión.\n",
        "\n",
        "Si el empleado trabajó más de 20 días al mes y su sueldo es menor a 1000000 tendrá derecho a un bono de alimentación."
      ],
      "metadata": {
        "id": "YXzsWHu9GGdS"
      }
    }
  ]
}